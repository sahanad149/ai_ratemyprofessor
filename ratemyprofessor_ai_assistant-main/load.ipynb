{
 "cells": [
  {
   "cell_type": "code",
   "execution_count": 72,
   "metadata": {},
   "outputs": [],
   "source": [
    "from dotenv import load_dotenv\n",
    "load_dotenv()\n",
    "import os\n",
    "from openai import OpenAI\n",
    "from pinecone import Pinecone, ServerlessSpec"
   ]
  },
  {
   "cell_type": "code",
   "execution_count": 63,
   "metadata": {},
   "outputs": [],
   "source": [
    "pc = Pinecone(api_key=os.getenv(\"PINECONE_API_KEY\"))\n",
    "pc.create_index(\n",
    "    name=\"rag-m\", dimension=1536, metric=\"cosine\", spec=ServerlessSpec(cloud=\"aws\", region=\"us-east-1\")\n",
    ")"
   ]
  },
  {
   "cell_type": "code",
   "execution_count": 64,
   "metadata": {},
   "outputs": [
    {
     "data": {
      "text/plain": [
       "[{'professor': 'Dr. Alice Johnson',\n",
       "  'subject': 'Biology',\n",
       "  'stars': 4,\n",
       "  'review': 'Dr. Johnson is very knowledgeable and passionate about the subject. The classes are engaging, but the workload can be heavy.'},\n",
       " {'professor': 'Prof. Robert Smith',\n",
       "  'subject': 'Mathematics',\n",
       "  'stars': 5,\n",
       "  'review': 'Prof. Smith explains complex concepts clearly and is always available for help. Highly recommended!'},\n",
       " {'professor': 'Dr. Emily Davis',\n",
       "  'subject': 'History',\n",
       "  'stars': 3,\n",
       "  'review': 'Dr. Davis is well-organized, but the lectures can be a bit dry. More interactive elements would be helpful.'},\n",
       " {'professor': 'Dr. Michael Brown',\n",
       "  'subject': 'Physics',\n",
       "  'stars': 4,\n",
       "  'review': 'Dr. Brown makes difficult topics more understandable with real-world examples. Tests are challenging but fair.'},\n",
       " {'professor': 'Prof. Sarah Wilson',\n",
       "  'subject': 'Chemistry',\n",
       "  'stars': 2,\n",
       "  'review': \"Prof. Wilson's classes are difficult to follow, and there is little feedback on assignments.\"},\n",
       " {'professor': 'Dr. David Lee',\n",
       "  'subject': 'Computer Science',\n",
       "  'stars': 5,\n",
       "  'review': 'Dr. Lee is an excellent teacher with a lot of industry experience. The projects are practical and relevant.'},\n",
       " {'professor': 'Prof. Jessica Taylor',\n",
       "  'subject': 'Economics',\n",
       "  'stars': 4,\n",
       "  'review': 'Prof. Taylor presents material clearly and encourages critical thinking. The course is well-structured.'},\n",
       " {'professor': 'Dr. William Martinez',\n",
       "  'subject': 'Psychology',\n",
       "  'stars': 3,\n",
       "  'review': 'Dr. Martinez is knowledgeable, but the course could benefit from more interactive activities.'},\n",
       " {'professor': 'Prof. Olivia Anderson',\n",
       "  'subject': 'Philosophy',\n",
       "  'stars': 5,\n",
       "  'review': 'Prof. Anderson is incredibly insightful and engages students in deep discussions. A truly enriching experience.'},\n",
       " {'professor': 'Dr. James Thomas',\n",
       "  'subject': 'Engineering',\n",
       "  'stars': 4,\n",
       "  'review': 'Dr. Thomas is a skilled lecturer with a knack for making complex problems understandable. The labs are very informative.'},\n",
       " {'professor': 'Prof. Ava Jackson',\n",
       "  'subject': 'English Literature',\n",
       "  'stars': 4,\n",
       "  'review': \"Prof. Jackson's passion for literature is evident. The readings are thought-provoking, though some assignments can be overwhelming.\"},\n",
       " {'professor': 'Dr. Benjamin Harris',\n",
       "  'subject': 'Sociology',\n",
       "  'stars': 3,\n",
       "  'review': 'Dr. Harris provides good foundational knowledge, but the course could use more real-life examples.'},\n",
       " {'professor': 'Prof. Sophia Clark',\n",
       "  'subject': 'Art History',\n",
       "  'stars': 5,\n",
       "  'review': 'Prof. Clark is an exceptional teacher with a deep knowledge of art history. The lectures are engaging and informative.'},\n",
       " {'professor': 'Dr. Daniel Lewis',\n",
       "  'subject': 'Political Science',\n",
       "  'stars': 2,\n",
       "  'review': \"Dr. Lewis' lectures are often disorganized and lack clarity. The grading can be inconsistent.\"},\n",
       " {'professor': 'Prof. Mia Robinson',\n",
       "  'subject': 'Environmental Science',\n",
       "  'stars': 5,\n",
       "  'review': 'Prof. Robinson is very passionate about the subject and incorporates current events into the lessons. Highly engaging.'},\n",
       " {'professor': 'Dr. Ethan Walker',\n",
       "  'subject': 'Statistics',\n",
       "  'stars': 3,\n",
       "  'review': 'Dr. Walker provides a solid introduction to statistics, but the pace of the course can be too fast for some students.'},\n",
       " {'professor': 'Prof. Isabella Hall',\n",
       "  'subject': 'French',\n",
       "  'stars': 4,\n",
       "  'review': 'Prof. Hall is a great language instructor with effective teaching methods. The class is interactive and enjoyable.'},\n",
       " {'professor': 'Dr. Alexander Young',\n",
       "  'subject': 'Geology',\n",
       "  'stars': 5,\n",
       "  'review': \"Dr. Young's enthusiasm for geology is infectious. The field trips and hands-on activities are excellent.\"},\n",
       " {'professor': 'Prof. Charlotte King',\n",
       "  'subject': 'Music Theory',\n",
       "  'stars': 4,\n",
       "  'review': 'Prof. King is knowledgeable and passionate. The class can be challenging but rewarding for those interested in music theory.'},\n",
       " {'professor': 'Dr. Henry Wright',\n",
       "  'subject': 'Biochemistry',\n",
       "  'stars': 3,\n",
       "  'review': 'Dr. Wright has a deep understanding of biochemistry but struggles with making the material engaging for students.'},\n",
       " {'professor': 'Prof. Amelia Scott',\n",
       "  'subject': 'Creative Writing',\n",
       "  'stars': 5,\n",
       "  'review': 'Prof. Scott provides valuable feedback and fosters a supportive environment for creative expression. Highly recommended.'}]"
      ]
     },
     "execution_count": 64,
     "metadata": {},
     "output_type": "execute_result"
    }
   ],
   "source": [
    "import json\n",
    "data = json.load(open(\"reviews.json\"))\n",
    "data[\"reviews\"]"
   ]
  },
  {
   "cell_type": "code",
   "execution_count": 68,
   "metadata": {},
   "outputs": [],
   "source": [
    "processed_data = []\n",
    "client = OpenAI()\n",
    "\n",
    "# Create embeddings for each review\n",
    "for review in data[\"reviews\"]:\n",
    "    response = client.embeddings.create(\n",
    "        input=review['review'], model=\"text-embedding-ada-002\"\n",
    "    )\n",
    "    embedding = response.data[0].embedding\n",
    "    processed_data.append(\n",
    "        {\n",
    "            \"values\": embedding,\n",
    "            \"id\": review[\"professor\"],\n",
    "            \"metadata\":{\n",
    "                \"review\": review[\"review\"],\n",
    "                \"subject\": review[\"subject\"],\n",
    "                \"stars\": review[\"stars\"],\n",
    "            }\n",
    "        }\n",
    "    )\n"
   ]
  },
  {
   "cell_type": "code",
   "execution_count": 66,
   "metadata": {},
   "outputs": [
    {
     "name": "stdout",
     "output_type": "stream",
     "text": [
      "Upserted count: 21\n"
     ]
    }
   ],
   "source": [
    "index = pc.Index(\"rag-m\")\n",
    "upsert_response = index.upsert(\n",
    "    vectors=processed_data,\n",
    "    namespace=\"ns1\",\n",
    ")\n",
    "print(f\"Upserted count: {upsert_response['upserted_count']}\")\n"
   ]
  },
  {
   "cell_type": "code",
   "execution_count": 67,
   "metadata": {},
   "outputs": [
    {
     "name": "stdout",
     "output_type": "stream",
     "text": [
      "{'dimension': 1536,\n",
      " 'index_fullness': 0.0,\n",
      " 'namespaces': {'ns1': {'vector_count': 21}},\n",
      " 'total_vector_count': 21}\n"
     ]
    }
   ],
   "source": [
    "print(index.describe_index_stats())"
   ]
  }
 ],
 "metadata": {
  "kernelspec": {
   "display_name": "rag",
   "language": "python",
   "name": "python3"
  },
  "language_info": {
   "codemirror_mode": {
    "name": "ipython",
    "version": 3
   },
   "file_extension": ".py",
   "mimetype": "text/x-python",
   "name": "python",
   "nbconvert_exporter": "python",
   "pygments_lexer": "ipython3",
   "version": "3.10.14"
  }
 },
 "nbformat": 4,
 "nbformat_minor": 2
}
